{
  "cells": [
    {
      "cell_type": "markdown",
      "metadata": {
        "id": "view-in-github",
        "colab_type": "text"
      },
      "source": [
        "<a href=\"https://colab.research.google.com/github/luana-souza-hub/analise_acidentes_transito/blob/main/Numpy.ipynb\" target=\"_parent\"><img src=\"https://colab.research.google.com/assets/colab-badge.svg\" alt=\"Open In Colab\"/></a>"
      ]
    },
    {
      "cell_type": "markdown",
      "metadata": {
        "id": "XzuT3ocVnc5G"
      },
      "source": [
        "# Introdução à Data Science com Python - Data ICMC-USP\n",
        "\n",
        "Esse material foi desenvolvido pelo Data, grupo de extensão de aprendizado e ciência de dados compostos por alunos do Instituto de Ciências Matemáticas e de Computação da USP e adaptado pelo Prof. Luiz Mário.\n",
        "\n",
        "Esse notebook é acompanhado de um curso em video, que pode ser encontrado em [aqui](https://www.youtube.com/playlist?list=PLFE-LjWAAP9SfEuLXf3qrpw4szKWjlYq9)\n",
        "\n",
        "Para saber mais sobre as atividades do Data entre no nosso site e nos siga e nossas redes sociais:\n",
        "- [Site](http://data.icmc.usp.br/)\n",
        "- [Twitter](https://twitter.com/data_icmc)\n",
        "- [LinkedIn](https://www.linkedin.com/school/data-icmc/)\n",
        "- [Facebook](https://www.facebook.com/dataICMC/)\n",
        "\n",
        "Aproveite o material!\n",
        "\n",
        "\n",
        "## NumPy\n",
        "\n",
        "NumPy é uma biblioteca para manipulação de vetores e matrizes, possuindo várias funções para lidar com esses dados. A biblioteca é muito eficiente e é usada como base para diversar outras bibliotecas de ciência de dados em Python. Iremos ver o material básico importante de NumPy, mas é muito recomendado conferir a documentação oficial em https://numpy.org/doc/, lá é possível encontrar exemplos de uso para todas as funcionalidades da biblioteca."
      ]
    },
    {
      "cell_type": "code",
      "execution_count": null,
      "metadata": {
        "id": "bf7AT2fwnc5M"
      },
      "outputs": [],
      "source": [
        "# É comum importar o numpy o chamando só de np\n",
        "import numpy as np"
      ]
    },
    {
      "cell_type": "markdown",
      "metadata": {
        "id": "WSTBPThcnc5N"
      },
      "source": [
        "### Arrays\n",
        "\n",
        "Arrays são a generalização de vetores e matrizes com qualquer número de dimensões. O `np.array` é o elemento central do NumPy, e é com eles que precisamos saber trabalhar.\n",
        "\n",
        "Como foi dito, um array numpy pode ter qualquer número de dimenções, vamos observar os exemplos na imagem a baixo:\n",
        "\n",
        "<img src=\"https://www.oreilly.com/api/v2/epubs/9781491922927/files/assets/elsp_0105.png\">\n",
        "\n",
        "([fonte da imagem](https://www.oreilly.com/api/v2/epubs/9781491922927/files/assets/elsp_0105.png))"
      ]
    },
    {
      "cell_type": "markdown",
      "metadata": {
        "id": "37Orfd5Unc5O"
      },
      "source": [
        "Certo, então é possível ver que os arrays tem uma dimensão e uma tamanho em cada uma dessas dimenções. Cada dimensão é identificada por um eixo (*axis*) como podemos ver na imagem.\n",
        "\n",
        "Vamos trabalhar com um exemplo simples:"
      ]
    },
    {
      "cell_type": "code",
      "execution_count": null,
      "metadata": {
        "id": "S7uHJGxSnc5O",
        "colab": {
          "base_uri": "https://localhost:8080/"
        },
        "outputId": "d0a92dcb-9aa4-4233-d86c-d18b33715f8c"
      },
      "outputs": [
        {
          "output_type": "execute_result",
          "data": {
            "text/plain": [
              "array([ 2,  3,  5,  7, 11])"
            ]
          },
          "metadata": {},
          "execution_count": 2
        }
      ],
      "source": [
        "# Vamos criar nosso primeiro array\n",
        "a = np.array([2, 3, 5, 7, 11])\n",
        "a"
      ]
    },
    {
      "cell_type": "code",
      "execution_count": null,
      "metadata": {
        "id": "m5VckbMxnc5P",
        "colab": {
          "base_uri": "https://localhost:8080/"
        },
        "outputId": "d64f87a7-d277-49e2-a26e-f4e669409534"
      },
      "outputs": [
        {
          "output_type": "execute_result",
          "data": {
            "text/plain": [
              "1"
            ]
          },
          "metadata": {},
          "execution_count": 3
        }
      ],
      "source": [
        "# O atributo ndim do array guarda seu número de dimenções\n",
        "a.ndim"
      ]
    },
    {
      "cell_type": "code",
      "execution_count": null,
      "metadata": {
        "id": "8u_yX2IPnc5P",
        "colab": {
          "base_uri": "https://localhost:8080/"
        },
        "outputId": "a08e65d4-1dcc-4141-a282-7d3e08ca7a61"
      },
      "outputs": [
        {
          "output_type": "execute_result",
          "data": {
            "text/plain": [
              "(5,)"
            ]
          },
          "metadata": {},
          "execution_count": 4
        }
      ],
      "source": [
        "# O shape (formato) do array é um atributo ainda mais importante\n",
        "a.shape"
      ]
    },
    {
      "cell_type": "code",
      "execution_count": null,
      "metadata": {
        "id": "kRPYDeDTnc5Q",
        "colab": {
          "base_uri": "https://localhost:8080/"
        },
        "outputId": "e4fb766a-dc5c-4ce2-c9b7-3900f0bc7c91"
      },
      "outputs": [
        {
          "output_type": "execute_result",
          "data": {
            "text/plain": [
              "5"
            ]
          },
          "metadata": {},
          "execution_count": 5
        }
      ],
      "source": [
        "# Podemos acessar um entrada do array como fizemos com listas\n",
        "a[2]"
      ]
    },
    {
      "cell_type": "code",
      "execution_count": null,
      "metadata": {
        "id": "gJVBJsmZnc5Q",
        "colab": {
          "base_uri": "https://localhost:8080/"
        },
        "outputId": "b3e81d56-245d-429c-e36f-46056ebd9ae8"
      },
      "outputs": [
        {
          "output_type": "execute_result",
          "data": {
            "text/plain": [
              "array([ 2,  3,  5, 42, 11])"
            ]
          },
          "metadata": {},
          "execution_count": 6
        }
      ],
      "source": [
        "# Podemos também alterar uma entrada do array\n",
        "a[3] = 42\n",
        "a"
      ]
    },
    {
      "cell_type": "markdown",
      "metadata": {
        "id": "f_Ecwm4ync5Q"
      },
      "source": [
        "Tudo que fizemos aqui funciona para qualquer número de dimensões, vamos ver:"
      ]
    },
    {
      "cell_type": "code",
      "execution_count": null,
      "metadata": {
        "id": "V7CAp4Apnc5R",
        "colab": {
          "base_uri": "https://localhost:8080/"
        },
        "outputId": "f0f02617-f090-46df-933c-5d7561fd7b83"
      },
      "outputs": [
        {
          "output_type": "execute_result",
          "data": {
            "text/plain": [
              "array([[ 10,  20, 100],\n",
              "       [ 30,  40, 200],\n",
              "       [ 50,  60, 300]])"
            ]
          },
          "metadata": {},
          "execution_count": 8
        }
      ],
      "source": [
        "# Criando uma matriz\n",
        "b = np.array([[10, 20, 100],\n",
        "              [30, 40, 200],\n",
        "              [50, 60, 300]])\n",
        "b"
      ]
    },
    {
      "cell_type": "code",
      "execution_count": null,
      "metadata": {
        "id": "wi2Dcm0anc5R",
        "colab": {
          "base_uri": "https://localhost:8080/"
        },
        "outputId": "167b2f52-939a-4807-b395-b78739f28a3f"
      },
      "outputs": [
        {
          "output_type": "stream",
          "name": "stdout",
          "text": [
            "2\n",
            "(3, 3)\n"
          ]
        }
      ],
      "source": [
        "# Visualizando número de dimensões e shape\n",
        "print(b.ndim)\n",
        "print(b.shape)"
      ]
    },
    {
      "cell_type": "code",
      "execution_count": null,
      "metadata": {
        "id": "lhm6bT9Mnc5R",
        "colab": {
          "base_uri": "https://localhost:8080/"
        },
        "outputId": "597cb8b6-d753-42a7-bdf2-8e90072f9d78"
      },
      "outputs": [
        {
          "output_type": "execute_result",
          "data": {
            "text/plain": [
              "60"
            ]
          },
          "metadata": {},
          "execution_count": 10
        }
      ],
      "source": [
        "# Agora precisamos informar a posição em cada eixo para acessar elementos\n",
        "b[2, 1]"
      ]
    },
    {
      "cell_type": "code",
      "execution_count": null,
      "metadata": {
        "id": "adQyUEVqnc5R",
        "colab": {
          "base_uri": "https://localhost:8080/"
        },
        "outputId": "b3fa5b67-440d-4f38-af7b-e71cb91e6311"
      },
      "outputs": [
        {
          "output_type": "execute_result",
          "data": {
            "text/plain": [
              "array([[ 10,  20, 100],\n",
              "       [ 23,  40, 200],\n",
              "       [ 50,  60, 300]])"
            ]
          },
          "metadata": {},
          "execution_count": 11
        }
      ],
      "source": [
        "# Também podemos mudar entradas\n",
        "b[1, 0] = 23\n",
        "b"
      ]
    },
    {
      "cell_type": "markdown",
      "metadata": {
        "id": "c7YqXNCknc5S"
      },
      "source": [
        "**Pergunta:** Qual o shape de uma imagem em tons de cinza de tamanho 200x200? E de uma imagem RGB do mesmo tamanho?\n",
        "\n",
        "![image.png](https://github.com/icmc-data/Intro-Data-Science-Youtube/blob/master/imgs/img_array.png?raw=true)"
      ]
    },
    {
      "cell_type": "markdown",
      "metadata": {
        "id": "KPfrev5_nc5S"
      },
      "source": [
        "### Gerando arrays\n",
        "Até aqui criamos todos nossos arrays definindo valores na mão utilizando listas em Python. Porém o NumPy possui funções convenientes para criar novos arrays"
      ]
    },
    {
      "cell_type": "code",
      "execution_count": null,
      "metadata": {
        "id": "fmOyOY86nc5S",
        "colab": {
          "base_uri": "https://localhost:8080/"
        },
        "outputId": "a2a42785-7d53-40d6-c152-b39847b91a18"
      },
      "outputs": [
        {
          "output_type": "execute_result",
          "data": {
            "text/plain": [
              "array([[0., 0.],\n",
              "       [0., 0.]])"
            ]
          },
          "metadata": {},
          "execution_count": 15
        }
      ],
      "source": [
        "# Cria um array só com zeros com shape (2,2)\n",
        "a = np.zeros((2,2))\n",
        "a"
      ]
    },
    {
      "cell_type": "code",
      "execution_count": null,
      "metadata": {
        "id": "HQY6Imhync5S",
        "colab": {
          "base_uri": "https://localhost:8080/"
        },
        "outputId": "fd4a0fe7-066a-4700-eef7-bc21beebe90b"
      },
      "outputs": [
        {
          "output_type": "execute_result",
          "data": {
            "text/plain": [
              "array([[1., 1.],\n",
              "       [1., 1.]])"
            ]
          },
          "metadata": {},
          "execution_count": 13
        }
      ],
      "source": [
        "# Cria um array só com uns com shape (2,2)\n",
        "a = np.ones((2,2))\n",
        "a"
      ]
    },
    {
      "cell_type": "code",
      "execution_count": null,
      "metadata": {
        "id": "AIerVJVCnc5S",
        "colab": {
          "base_uri": "https://localhost:8080/"
        },
        "outputId": "4ed82793-1334-4c96-bae5-07f523efe0b3"
      },
      "outputs": [
        {
          "output_type": "execute_result",
          "data": {
            "text/plain": [
              "array([[0.65214332, 0.81642442],\n",
              "       [0.71343613, 0.8716605 ],\n",
              "       [0.03494042, 0.33453292]])"
            ]
          },
          "metadata": {},
          "execution_count": 16
        }
      ],
      "source": [
        "# Cria um array de shape (3,2) com valores aleatórios\n",
        "a = np.random.random((3,2))\n",
        "a"
      ]
    },
    {
      "cell_type": "code",
      "execution_count": null,
      "metadata": {
        "id": "DEmLHrrMnc5S",
        "colab": {
          "base_uri": "https://localhost:8080/"
        },
        "outputId": "ac9becf4-5d60-4118-96ca-e07ed16ff1d9"
      },
      "outputs": [
        {
          "output_type": "execute_result",
          "data": {
            "text/plain": [
              "array([[ 8,  5],\n",
              "       [14,  1],\n",
              "       [ 9, 15]])"
            ]
          },
          "metadata": {},
          "execution_count": 17
        }
      ],
      "source": [
        "# Cria um array com valores aleatorios inteiros (20 é o valor maxímo)\n",
        "a = np.random.randint(20, size=(3,2))\n",
        "a"
      ]
    },
    {
      "cell_type": "code",
      "execution_count": null,
      "metadata": {
        "id": "-A61r1hTnc5S",
        "colab": {
          "base_uri": "https://localhost:8080/"
        },
        "outputId": "e6b9bfff-db76-40df-c569-605f69098b05"
      },
      "outputs": [
        {
          "output_type": "execute_result",
          "data": {
            "text/plain": [
              "array([0, 1, 2, 3, 4])"
            ]
          },
          "metadata": {},
          "execution_count": 18
        }
      ],
      "source": [
        "# Cria um vetor de 0 a 4\n",
        "a = np.arange(5)\n",
        "a"
      ]
    },
    {
      "cell_type": "markdown",
      "metadata": {
        "id": "HVZ5f0kInc5T"
      },
      "source": [
        "Não temos tempo de ver todas as funções desse tipo que existem, tente dar uma olhada em `np.zeros_like`, `np.full`, `np.linspace`, entre outras."
      ]
    },
    {
      "cell_type": "markdown",
      "metadata": {
        "id": "NWoDK8OTnc5T"
      },
      "source": [
        "### Operações matemáticas\n",
        "\n",
        "Até agora pode não ter ficado muito claro o motivo de estarmos usando arrays do NumPy ao invés de usar simplesmente listas nativas do Python. A vantagem está justamente nas várias operações suportadas por arrays. Vamos ver alguns exemplos"
      ]
    },
    {
      "cell_type": "code",
      "execution_count": null,
      "metadata": {
        "id": "cwEbLEVXnc5T",
        "colab": {
          "base_uri": "https://localhost:8080/"
        },
        "outputId": "9edc2b2e-e869-4359-ea1f-89292fa3b5ae"
      },
      "outputs": [
        {
          "output_type": "execute_result",
          "data": {
            "text/plain": [
              "array([0, 8, 9, 4, 6])"
            ]
          },
          "metadata": {},
          "execution_count": 19
        }
      ],
      "source": [
        "# Vamos criar um vetor aleatorio que iremos utilizar\n",
        "a = np.random.randint(10, size=(5,))\n",
        "a"
      ]
    },
    {
      "cell_type": "code",
      "execution_count": null,
      "metadata": {
        "id": "GNWfsR2Fnc5T",
        "colab": {
          "base_uri": "https://localhost:8080/"
        },
        "outputId": "c3a2ad8c-a98b-43f5-c735-4df7e6a4fbb3"
      },
      "outputs": [
        {
          "output_type": "stream",
          "name": "stdout",
          "text": [
            "[10 18 19 14 16]\n",
            "[-4  4  5  0  2]\n",
            "[ 0 24 27 12 18]\n",
            "[0.  4.  4.5 2.  3. ]\n",
            "[ 0 64 81 16 36]\n",
            "[ True False False  True False]\n"
          ]
        }
      ],
      "source": [
        "# Podemos realizar varias operaçoes\n",
        "\n",
        "print(a + 10) # Soma\n",
        "\n",
        "print(a - 4) # Subtração\n",
        "\n",
        "print(a * 3) # Multiplicação\n",
        "\n",
        "print(a / 2) # Divisão\n",
        "\n",
        "print(a ** 2) # Exponenciação\n",
        "\n",
        "print(a < 5) # Comparação"
      ]
    },
    {
      "cell_type": "markdown",
      "metadata": {
        "id": "8dXE2-bdnc5T"
      },
      "source": [
        "Também podemos realizar operações entre arrays"
      ]
    },
    {
      "cell_type": "code",
      "execution_count": null,
      "metadata": {
        "id": "9RaEJCHjnc5T",
        "colab": {
          "base_uri": "https://localhost:8080/"
        },
        "outputId": "083aecb4-87a3-49c1-cb2a-98f2d498b0cb"
      },
      "outputs": [
        {
          "output_type": "stream",
          "name": "stdout",
          "text": [
            "[6 8 8 0 7]\n",
            "[1 9 9 0 0]\n"
          ]
        }
      ],
      "source": [
        "# Vamos criar dois vetores aleatorios que iremos utilizar\n",
        "a = np.random.randint(10, size=(5,))\n",
        "b = np.random.randint(10, size=(5))\n",
        "\n",
        "print(a)\n",
        "print(b)"
      ]
    },
    {
      "cell_type": "code",
      "execution_count": null,
      "metadata": {
        "id": "UHM1vjzWnc5T",
        "colab": {
          "base_uri": "https://localhost:8080/"
        },
        "outputId": "3f59dcfb-b92e-489d-eb2b-bbb190aea60a"
      },
      "outputs": [
        {
          "output_type": "stream",
          "name": "stdout",
          "text": [
            "[ 7 17 17  0  7]\n"
          ]
        }
      ],
      "source": [
        "# Podemos realizar soma (ou subtração) elemento a elemento\n",
        "print(a + b)"
      ]
    },
    {
      "cell_type": "code",
      "execution_count": null,
      "metadata": {
        "id": "JY3eqOVenc5T",
        "colab": {
          "base_uri": "https://localhost:8080/"
        },
        "outputId": "ee6dda39-dbec-4c24-9edd-eacd92687757"
      },
      "outputs": [
        {
          "output_type": "stream",
          "name": "stdout",
          "text": [
            "[40  4  3  9  3]\n"
          ]
        }
      ],
      "source": [
        "# Também podemos realizar multiplicação (ou divisão) elemento a elemento\n",
        "print(a * b)"
      ]
    },
    {
      "cell_type": "code",
      "execution_count": null,
      "metadata": {
        "id": "pX27UEdrnc5T"
      },
      "outputs": [],
      "source": [
        "# Para isso é muito importante que os shapes sejam iguais\n",
        "c = np.random.randint(10, size=(7,))\n",
        "print(a + c)"
      ]
    },
    {
      "cell_type": "code",
      "execution_count": null,
      "metadata": {
        "id": "8LRWutAKnc5U"
      },
      "outputs": [],
      "source": [
        "# Também temos operações como o produto escalar entre os vetores\n",
        "np.dot(a, b)"
      ]
    },
    {
      "cell_type": "markdown",
      "metadata": {
        "id": "mD2Xo_4Tnc5U"
      },
      "source": [
        "Lembre-se que tudo isso também vale para matrizes"
      ]
    },
    {
      "cell_type": "code",
      "execution_count": null,
      "metadata": {
        "id": "TRWfwnNJnc5U"
      },
      "outputs": [],
      "source": [
        "# Vamos criar duas matrizes aleatorias que iremos utilizar\n",
        "a = np.random.randint(10, size=(3,4))\n",
        "b = np.random.randint(10, size=(3,4))\n",
        "\n",
        "print(a)\n",
        "print('-----')\n",
        "print(b)"
      ]
    },
    {
      "cell_type": "code",
      "execution_count": null,
      "metadata": {
        "id": "eiK5So8lnc5U"
      },
      "outputs": [],
      "source": [
        "# Operações com escalares\n",
        "print(a + 100)\n",
        "print('-----')\n",
        "print(a * 3)"
      ]
    },
    {
      "cell_type": "code",
      "execution_count": null,
      "metadata": {
        "id": "yqx1mjYbnc5U"
      },
      "outputs": [],
      "source": [
        "# Somando matrizes elemento a elemento\n",
        "print(a + b)"
      ]
    },
    {
      "cell_type": "code",
      "execution_count": null,
      "metadata": {
        "id": "IT_82Pc9nc5U"
      },
      "outputs": [],
      "source": [
        "# Podemos transpor uma matriz\n",
        "print(b.T)"
      ]
    },
    {
      "cell_type": "code",
      "execution_count": null,
      "metadata": {
        "id": "TNkxwUoUnc5U"
      },
      "outputs": [],
      "source": [
        "# Podemos multiplicar matrizes\n",
        "# (com np.dot, np.multiply é multiplicação elemento a elemento)\n",
        "c = np.random.randint(10, size=(4, 2))\n",
        "print('Shapes:', a.shape, c.shape)\n",
        "print(np.dot(a, c))"
      ]
    },
    {
      "cell_type": "markdown",
      "metadata": {
        "id": "_4xYKM4Dnc5V"
      },
      "source": [
        "Podemos fazer operações entre vetores e matrizes. De forma geral isso é chamado de *broadcasting*, mas vamos nos limitar a um caso simples"
      ]
    },
    {
      "cell_type": "code",
      "execution_count": null,
      "metadata": {
        "id": "UtxkDnGInc5V"
      },
      "outputs": [],
      "source": [
        "# Criando nosso vetor e nossa matriz\n",
        "a = np.random.randint(10, size=(4,))\n",
        "b = np.random.randint(20, size=(3,4))\n",
        "\n",
        "print(a)\n",
        "print() # Imprime linha em branco entre eles\n",
        "print(b)"
      ]
    },
    {
      "cell_type": "code",
      "execution_count": null,
      "metadata": {
        "id": "Ugpr_G7bnc5d"
      },
      "outputs": [],
      "source": [
        "# Isso tem o efeito de subtrair cada linha da matriz pelo vetor\n",
        "b - a"
      ]
    },
    {
      "cell_type": "markdown",
      "metadata": {
        "id": "KVgmlyBKnc5d"
      },
      "source": [
        "### Funções importantes"
      ]
    },
    {
      "cell_type": "markdown",
      "metadata": {
        "id": "sUNSC6bXnc5e"
      },
      "source": [
        "#### Funções de agregação"
      ]
    },
    {
      "cell_type": "code",
      "execution_count": null,
      "metadata": {
        "id": "ZoTJiZbKnc5e",
        "colab": {
          "base_uri": "https://localhost:8080/"
        },
        "outputId": "be249e14-c79c-44a4-aec0-8ba43bff3419"
      },
      "outputs": [
        {
          "output_type": "stream",
          "name": "stdout",
          "text": [
            "[10 16 13 11  8]\n"
          ]
        }
      ],
      "source": [
        "# Vamos criar um vetor que iremos utilizar\n",
        "a = np.random.randint(20, size=(5,))\n",
        "print(a)"
      ]
    },
    {
      "cell_type": "code",
      "execution_count": null,
      "metadata": {
        "id": "nGFSbR4Xnc5e",
        "colab": {
          "base_uri": "https://localhost:8080/"
        },
        "outputId": "c20e55fa-9284-499a-b18c-4c53038a69f3"
      },
      "outputs": [
        {
          "output_type": "execute_result",
          "data": {
            "text/plain": [
              "58"
            ]
          },
          "metadata": {},
          "execution_count": 31
        }
      ],
      "source": [
        "# Soma\n",
        "#np.sum(a)\n",
        "a.sum()"
      ]
    },
    {
      "cell_type": "code",
      "execution_count": null,
      "metadata": {
        "id": "Yv5F9goKnc5e",
        "colab": {
          "base_uri": "https://localhost:8080/"
        },
        "outputId": "52abbdf2-4ee5-4bdb-c547-f944270ad7c7"
      },
      "outputs": [
        {
          "output_type": "execute_result",
          "data": {
            "text/plain": [
              "11.6"
            ]
          },
          "metadata": {},
          "execution_count": 32
        }
      ],
      "source": [
        "# Média\n",
        "np.mean(a) # ou a.mean()"
      ]
    },
    {
      "cell_type": "markdown",
      "metadata": {
        "id": "W0X2zRAenc5e"
      },
      "source": [
        "Temos várias outras como `np.median`, `np.std`, `np.max`, `np.min`,...\n",
        "\n",
        "Isso também funciona com matrizes normalmente, mas também temos a opção de agregar por eixo"
      ]
    },
    {
      "cell_type": "code",
      "execution_count": null,
      "metadata": {
        "id": "HH_STmN4nc5e"
      },
      "outputs": [],
      "source": [
        "# Vamos criar uma matriz que iremos utilizar\n",
        "a = np.random.randint(10, size=(3, 4))\n",
        "print(a)"
      ]
    },
    {
      "cell_type": "code",
      "execution_count": null,
      "metadata": {
        "id": "vqCjJ9H0nc5e"
      },
      "outputs": [],
      "source": [
        "# Podemos somar toda a matriz\n",
        "np.sum(a)"
      ]
    },
    {
      "cell_type": "code",
      "execution_count": null,
      "metadata": {
        "id": "l7xP2Wvjnc5f"
      },
      "outputs": [],
      "source": [
        "# Podemos somar as linhas\n",
        "np.sum(a, axis=1)"
      ]
    },
    {
      "cell_type": "code",
      "execution_count": null,
      "metadata": {
        "scrolled": true,
        "id": "MSZzFr77nc5f"
      },
      "outputs": [],
      "source": [
        "# Podemos somar as colunas\n",
        "np.sum(a, axis=0)"
      ]
    },
    {
      "cell_type": "markdown",
      "metadata": {
        "id": "Tdvn3dNPnc5f"
      },
      "source": [
        "#### Reshape\n",
        "Essa é uma função que nos permite alterar a shape de arrays"
      ]
    },
    {
      "cell_type": "code",
      "execution_count": null,
      "metadata": {
        "id": "8yZ-fiYRnc5f",
        "colab": {
          "base_uri": "https://localhost:8080/"
        },
        "outputId": "f9564227-bd96-471a-9052-8c3a5d69012e"
      },
      "outputs": [
        {
          "output_type": "stream",
          "name": "stdout",
          "text": [
            "[ 1 17 12  9  5 15  4  2 11  2 18  7 15  5 18 19  7 10]\n"
          ]
        }
      ],
      "source": [
        "# Vamos criar um vetor que iremos utilizar\n",
        "a = np.random.randint(20, size=(18,))\n",
        "print(a)"
      ]
    },
    {
      "cell_type": "code",
      "execution_count": null,
      "metadata": {
        "id": "qqclmMh7nc5f",
        "colab": {
          "base_uri": "https://localhost:8080/"
        },
        "outputId": "a656764c-bb8e-45ef-a037-8d2d506866f7"
      },
      "outputs": [
        {
          "output_type": "execute_result",
          "data": {
            "text/plain": [
              "array([[ 1, 17],\n",
              "       [12,  9],\n",
              "       [ 5, 15],\n",
              "       [ 4,  2],\n",
              "       [11,  2],\n",
              "       [18,  7],\n",
              "       [15,  5],\n",
              "       [18, 19],\n",
              "       [ 7, 10]])"
            ]
          },
          "metadata": {},
          "execution_count": 34
        }
      ],
      "source": [
        "# Tranformar em matriz 9 por 2\n",
        "b = a.reshape(9, 2)\n",
        "b"
      ]
    },
    {
      "cell_type": "code",
      "execution_count": null,
      "metadata": {
        "id": "RQStp_Fenc5g"
      },
      "outputs": [],
      "source": [
        "# Tranformar em matriz 3 por 6\n",
        "c = a.reshape(3, 6)\n",
        "c"
      ]
    },
    {
      "cell_type": "code",
      "execution_count": null,
      "metadata": {
        "scrolled": true,
        "id": "XmzRTtGYnc5g"
      },
      "outputs": [],
      "source": [
        "# Tranformar em tensor 3D 3 por 2 por 3\n",
        "d = a.reshape(3, 2, 3)\n",
        "d"
      ]
    },
    {
      "cell_type": "markdown",
      "metadata": {
        "id": "gQgASCjQnc5g"
      },
      "source": [
        "### Indexação"
      ]
    },
    {
      "cell_type": "markdown",
      "metadata": {
        "id": "A-ce3xbwnc5g"
      },
      "source": [
        "#### Arrays 1D"
      ]
    },
    {
      "cell_type": "code",
      "execution_count": null,
      "metadata": {
        "id": "r5Dgyvb1nc5h",
        "colab": {
          "base_uri": "https://localhost:8080/"
        },
        "outputId": "e949cb28-153e-4e55-f17a-9f78062f0ec4"
      },
      "outputs": [
        {
          "output_type": "stream",
          "name": "stdout",
          "text": [
            "[ 1 13 12  3 11  6 17 14  9 11]\n"
          ]
        }
      ],
      "source": [
        "# Vamos criar um vetor que iremos utilizar\n",
        "a = np.random.randint(20, size=(10,))\n",
        "print(a)"
      ]
    },
    {
      "cell_type": "code",
      "execution_count": null,
      "metadata": {
        "id": "ZeVWEb_Hnc5h",
        "colab": {
          "base_uri": "https://localhost:8080/"
        },
        "outputId": "783aabd8-1039-44b7-9a9e-ddbf78060e93"
      },
      "outputs": [
        {
          "output_type": "stream",
          "name": "stdout",
          "text": [
            "11\n",
            "[ 6 17 14]\n"
          ]
        }
      ],
      "source": [
        "# Como já vimos podemos indexar exatamente como no Python puro\n",
        "print(a[4])\n",
        "print(a[5:8])"
      ]
    },
    {
      "cell_type": "code",
      "execution_count": null,
      "metadata": {
        "id": "m5ngo7FAnc5h",
        "colab": {
          "base_uri": "https://localhost:8080/"
        },
        "outputId": "85b0d828-d4a5-4c4f-aad3-5a2f1205b497"
      },
      "outputs": [
        {
          "output_type": "stream",
          "name": "stdout",
          "text": [
            "[ 1 12  3]\n"
          ]
        }
      ],
      "source": [
        "# Podemos indexar usando um lista dos valores que queremos\n",
        "print(a[[0, 2, 3]])"
      ]
    },
    {
      "cell_type": "code",
      "execution_count": null,
      "metadata": {
        "scrolled": true,
        "id": "LwcJvHawnc5h",
        "colab": {
          "base_uri": "https://localhost:8080/"
        },
        "outputId": "65327196-8676-4d44-e2c4-467702bba9d4"
      },
      "outputs": [
        {
          "output_type": "stream",
          "name": "stdout",
          "text": [
            "[13  6 17  9 11]\n"
          ]
        }
      ],
      "source": [
        "# Podemos também indexar usando valores booleanos\n",
        "print(a[[False, True, False, False, False, True, True, False, True, True]])"
      ]
    },
    {
      "cell_type": "code",
      "execution_count": null,
      "metadata": {
        "id": "7mOfOZpgnc5h",
        "colab": {
          "base_uri": "https://localhost:8080/"
        },
        "outputId": "e7e29e53-07cf-4376-d43a-be00af07d5ed"
      },
      "outputs": [
        {
          "output_type": "stream",
          "name": "stdout",
          "text": [
            "[False  True  True False  True False  True  True False  True]\n",
            "[13 12 11 17 14 11]\n"
          ]
        }
      ],
      "source": [
        "# A indexação com booleanos é muito util combinado com comparação\n",
        "maior_que_10 = a > 10\n",
        "print(maior_que_10)\n",
        "b = a[maior_que_10]\n",
        "print(b)"
      ]
    },
    {
      "cell_type": "code",
      "source": [
        "print(a[a>10])"
      ],
      "metadata": {
        "colab": {
          "base_uri": "https://localhost:8080/"
        },
        "id": "tckTSPlRv-d7",
        "outputId": "80d046d3-d9c2-46a9-c006-6b02a118d0a1"
      },
      "execution_count": null,
      "outputs": [
        {
          "output_type": "stream",
          "name": "stdout",
          "text": [
            "[13 12 11 17 14 11]\n"
          ]
        }
      ]
    },
    {
      "cell_type": "markdown",
      "metadata": {
        "id": "npEFuNP-nc5i"
      },
      "source": [
        "#### Arrays 2D"
      ]
    },
    {
      "cell_type": "code",
      "execution_count": null,
      "metadata": {
        "id": "cg0CdeMenc5i",
        "colab": {
          "base_uri": "https://localhost:8080/"
        },
        "outputId": "b236ad63-c9bd-4631-8541-a429c7895bf0"
      },
      "outputs": [
        {
          "output_type": "stream",
          "name": "stdout",
          "text": [
            "[[49  9 33 34 16 14]\n",
            " [14 36 22 43 25 16]\n",
            " [36 29 20 25 26 15]\n",
            " [25 32 10 27 23 39]]\n"
          ]
        }
      ],
      "source": [
        "a = np.random.randint(50, size=(4,6))\n",
        "print(a)"
      ]
    },
    {
      "cell_type": "code",
      "execution_count": null,
      "metadata": {
        "id": "_1OT0McXnc5i",
        "colab": {
          "base_uri": "https://localhost:8080/"
        },
        "outputId": "cdfcb0a7-c8b1-4e69-ea4a-79180135f5bf"
      },
      "outputs": [
        {
          "output_type": "stream",
          "name": "stdout",
          "text": [
            "26\n"
          ]
        }
      ],
      "source": [
        "# Podemos acessar elementos unicos informando a posição em cada eixo\n",
        "print(a[2, 4])"
      ]
    },
    {
      "cell_type": "code",
      "execution_count": null,
      "metadata": {
        "scrolled": false,
        "id": "1S9QClF-nc5i",
        "colab": {
          "base_uri": "https://localhost:8080/"
        },
        "outputId": "01f4b103-3389-4669-eb1f-6d4fd1ce249d"
      },
      "outputs": [
        {
          "output_type": "stream",
          "name": "stdout",
          "text": [
            "[[22 43 25]\n",
            " [20 25 26]]\n"
          ]
        }
      ],
      "source": [
        "# Podemos fatiar um pedaço da matriz fatiando em cada eixo\n",
        "print(a[1:3, 2:5])"
      ]
    },
    {
      "cell_type": "code",
      "execution_count": null,
      "metadata": {
        "scrolled": false,
        "id": "JK-EeHaPnc5i"
      },
      "outputs": [],
      "source": [
        "# Utilizar : sozinho significa que queros todos os valores do eixo em questão\n",
        "print(a[:, 2]) # Todas linhas da coluna 2\n",
        "print(a[1, :]) # Todas as colunas da linha 1\n",
        "print(a[1, 2:4]) # Colunas 2 e 3 da linha 1"
      ]
    },
    {
      "cell_type": "code",
      "source": [
        "print(a[:, 1:3])"
      ],
      "metadata": {
        "colab": {
          "base_uri": "https://localhost:8080/"
        },
        "id": "hxzvug5KxBoh",
        "outputId": "dff76b75-e5b9-4c7d-ec37-a08cd56c5688"
      },
      "execution_count": null,
      "outputs": [
        {
          "output_type": "stream",
          "name": "stdout",
          "text": [
            "[[ 9 33]\n",
            " [36 22]\n",
            " [29 20]\n",
            " [32 10]]\n"
          ]
        }
      ]
    },
    {
      "cell_type": "code",
      "execution_count": null,
      "metadata": {
        "id": "Dv-y5FLync5i"
      },
      "outputs": [],
      "source": [
        "# Podemos realizar a indexação por booleanos também (mas vira 1D)\n",
        "a[a > 25]"
      ]
    },
    {
      "cell_type": "markdown",
      "metadata": {
        "id": "4Se3D0rync5j"
      },
      "source": [
        "Esses conceitos são totalmente iguais para qualquer número de dimensões.\n",
        "\n",
        "**Pergunta:** Como podemos extrair apenas o canal verde de uma imagem RGB?"
      ]
    }
  ],
  "metadata": {
    "kernelspec": {
      "display_name": "Python 3",
      "language": "python",
      "name": "python3"
    },
    "language_info": {
      "codemirror_mode": {
        "name": "ipython",
        "version": 3
      },
      "file_extension": ".py",
      "mimetype": "text/x-python",
      "name": "python",
      "nbconvert_exporter": "python",
      "pygments_lexer": "ipython3",
      "version": "3.8.3"
    },
    "colab": {
      "provenance": [],
      "include_colab_link": true
    }
  },
  "nbformat": 4,
  "nbformat_minor": 0
}